{
    "nbformat_minor": 1, 
    "cells": [
        {
            "source": "# New coffee shop location in residential sector of Chicago,Il\n", 
            "cell_type": "markdown", 
            "metadata": {
                "collapsed": true
            }
        }, 
        {
            "source": "# Introduction\n## Backround\nIn Chicago there are more than 200 neighborhoods.  More affluent neighborhoods have options that are numerous for coffee shops.  In more residential neighborhoods outside of the city center or more than 5 miles downtown there are less options for consumers.  Besides chain coffee stores or gas stations, many far northside and northwestside neighborhoods find the number of independent coffee shops lacking and welcome new independent coffee shops.  \n\n## Buisiness Problem\nIn an effort to assist a new independent coffee shop from earning and maintaining a new business in an ideal location, location data will be used to assist in analyzing optimal circumstances.\n\n## Data\nThe data used will be obtained through Foursquare and compared over several variables including number of surrounding business in the same category, mean frequency of the business, commonality of the business, and clustering analysis.  \nThe data on Chicago neighborhoods and corresponding community areas will be extracted from: https://en.wikipedia.org/wiki/Community_areas_in_Chicago\n\nlongitude latitude coordinates will be taken from: https://public.opendatasoft.com/ \n\nThe corresponding zip codes with the neighborhoods will be crossed check with several sources to ensure accuracy.\n", 
            "cell_type": "markdown", 
            "metadata": {}
        }
    ], 
    "metadata": {
        "kernelspec": {
            "display_name": "Python 3.6", 
            "name": "python3", 
            "language": "python"
        }, 
        "language_info": {
            "mimetype": "text/x-python", 
            "nbconvert_exporter": "python", 
            "version": "3.6.8", 
            "name": "python", 
            "file_extension": ".py", 
            "pygments_lexer": "ipython3", 
            "codemirror_mode": {
                "version": 3, 
                "name": "ipython"
            }
        }
    }, 
    "nbformat": 4
}